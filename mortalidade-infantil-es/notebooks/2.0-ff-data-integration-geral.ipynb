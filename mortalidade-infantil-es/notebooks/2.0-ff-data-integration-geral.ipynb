{
 "cells": [
  {
   "cell_type": "code",
   "execution_count": null,
   "metadata": {},
   "outputs": [],
   "source": [
    "# Importando bibliotecas\n",
    "import pandas as pd"
   ]
  },
  {
   "cell_type": "code",
   "execution_count": null,
   "metadata": {},
   "outputs": [],
   "source": [
    "# Datasets de mortalidade\n",
    "does-2016-raw\n",
    "does-geral = ([])\n",
    "\n",
    "# Datasets de nascimento\n",
    "dnes-2016-raw\n",
    "dnes-geral-raw"
   ]
  }
 ],
 "metadata": {
  "kernelspec": {
   "display_name": "Python 3",
   "language": "python",
   "name": "python3"
  }
 },
 "nbformat": 4,
 "nbformat_minor": 2
}
