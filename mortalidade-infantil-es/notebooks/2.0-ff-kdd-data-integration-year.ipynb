{
 "cells": [
  {
   "cell_type": "markdown",
   "metadata": {},
   "source": [
    "2.0-ff-kdd-data-integration"
   ]
  },
  {
   "cell_type": "code",
   "execution_count": null,
   "metadata": {},
   "outputs": [],
   "source": [
    "# Importando bibliotecas\n",
    "import pandas as pd"
   ]
  },
  {
   "cell_type": "code",
   "execution_count": null,
   "metadata": {},
   "outputs": [],
   "source": [
    "# Ano 2012\n",
    "\n",
    "## Downloading datasets\n",
    "df_sinasc_es_2012 = pd.read_csv('https://docs.google.com/spreadsheets/d/e/2PACX-1vRsmVmV6LY0nRKPr6MeqbNmH70iM20lPQdAmq0wNHJCRTxEGBzdM3cxgF6Ovd_mplD4RJ1EtCXBTAd6/pub?gid=1590264663&single=true&output=csv')\n",
    "df_sim_es_2012 = pd.read_csv('https://docs.google.com/spreadsheets/d/e/2PACX-1vS9XW4Hxc0QwEENpDDXLIBgDkyaTz89AXhgYYDcw7lHhBRjnLyQ2Y7B77fMV2LVmivKhSABYr-2fcFx/pub?gid=508819616&single=true&output=csv')\n",
    "\n",
    "## Merging datasets\n",
    "df_merged_left_2012 = pd.merge(df_sinasc_es_2012, df_sim_es_2012, how='left', on = 'NUMERODN')\n",
    "df_merged_inner_2012 = pd.merge(df_sinasc_es_2012, df_sim_es_2012, how='inner', on = 'NUMERODN')\n",
    "df_merged_outer_2012 = pd.merge(df_sinasc_es_2012, df_sim_es_2012, how='outer', on = 'NUMERODN', indicator=True)\n",
    "\n",
    "# Calculo da taxa de mortalidade geral\n",
    "(len(df_sim_es_2012[df_sim_es_2012]['IDADE']<1.index))/(len(df_sinasc_es_2012.index))\n",
    "\n",
    "# Calculo da taxa de mortalidade com dados integrados\n",
    "(len(df_merged_inner_2012.index))/(len(df_sinasc_es_2012.index))"
   ]
  },
  {
   "cell_type": "code",
   "execution_count": null,
   "metadata": {},
   "outputs": [],
   "source": [
    "# Ano 2013\n",
    "\n",
    "df_sinasc_es_2013 = pd.read_csv('https://docs.google.com/spreadsheets/d/e/2PACX-1vROjHq3_oX3W_j6GEVjNBoKdnoUJgE5HGIfyrWnB8mgXikfc15O08SvOVXqmuxfyZmp-lMM3ETsPvkZ/pub?gid=535577998&single=true&output=csv')\n",
    "df_sim_es_2013 = pd.read_csv('https://docs.google.com/spreadsheets/d/e/2PACX-1vRf-ecv5pdc0k2GR3SBdoCeZtRM6SPjSyQDFVwlUmzd8YsPVWPwZvx3ZnM8y_B5kBcFH-QxYIyTuYzr/pub?gid=1342589125&single=true&output=csv')\n",
    "\n",
    "df_merged_left_2013 = pd.merge(df_sinasc_es_2013, df_sim_es_2013, how='left', on = 'NUMERODN')\n",
    "df_merged_inner_2013 = pd.merge(df_sinasc_es_2013, df_sim_es_2013, how='inner', on = 'NUMERODN')\n",
    "df_merged_outer_2013 = pd.merge(df_sinasc_es_2013, df_sim_es_2013, how='outer', on = 'NUMERODN', indicator=True)\n",
    "\n",
    "# Calculo da taxa de mortalidade geral\n",
    "(len(df_sim_es_2013[df_sim_es_2013]['IDADE']<1.index))/(len(df_sinasc_es_2013.index))\n",
    "\n",
    "# Calculo da taxa de mortalidade com dados integrados\n",
    "(len(df_merged_inner_2013.index))/(len(df_sinasc_es_2013.index))"
   ]
  },
  {
   "cell_type": "code",
   "execution_count": null,
   "metadata": {},
   "outputs": [],
   "source": [
    "# Ano 2014\n",
    "\n",
    "df_sinasc_es_2014 = pd.read_csv('https://docs.google.com/spreadsheets/d/e/2PACX-1vTIPBsiEtG3heF7zGO6HRkVae9PAO_yJI8SVtw2YncAb1JByCTIsFid0rruA7c4Pq8TDCbI3j6LQjMc/pub?gid=580169372&single=true&output=csv')\n",
    "df_sim_es_2014 = pd.read_csv('https://docs.google.com/spreadsheets/d/e/2PACX-1vRGEAcKThbNaB9Kfp2vdoWZIMjUaVLwDF0Cf9_534xkV2iDWv4SZACgDBG7CnhzjXd_dCvwvadINdL1/pub?gid=1932938775&single=true&output=csv')\n",
    "\n",
    "df_merged_left_2014 = pd.merge(df_sinasc_es_2014, df_sim_es_2014, how='left', on = 'NUMERODN')\n",
    "df_merged_inner_2014 = pd.merge(df_sinasc_es_2014, df_sim_es_2014, how='inner', on = 'NUMERODN')\n",
    "df_merged_outer_2014 = pd.merge(df_sinasc_es_2014, df_sim_es_2014, how='outer', on = 'NUMERODN', indicator=True)\n",
    "\n",
    "# Calculo da taxa de mortalidade geral\n",
    "(len(df_sim_es_2014[df_sim_es_2014]['IDADE']<1.index))/(len(df_sinasc_es_2014.index))\n",
    "\n",
    "# Calculo da taxa de mortalidade com dados integrados\n",
    "(len(df_merged_inner_2014.index))/(len(df_sinasc_es_2014.index))"
   ]
  },
  {
   "cell_type": "code",
   "execution_count": null,
   "metadata": {},
   "outputs": [],
   "source": [
    "# Ano 2015\n",
    "\n",
    "df_sinasc_es_2015 = pd.read_csv('https://docs.google.com/spreadsheets/d/e/2PACX-1vQIyzKl_u0t_YN_stW1Nr4VHWw0XY5zdXhqi15RitMcNPQpDZdU5apVR5aOQmbVYu284B4wNJUMonXU/pub?gid=1338898032&single=true&output=csv')\n",
    "df_sim_es_2015 = pd.read_csv('https://docs.google.com/spreadsheets/d/e/2PACX-1vSQAjV9c7HSRNciS8zQZFtlffe-X0V8Wcc5EAM9wqhVGPHnI3IpAaliYwadmK4nHiKPz9GbXn_-xNNC/pub?gid=817434201&single=true&output=csv')\n",
    "\n",
    "df_merged_left_2015 = pd.merge(df_sinasc_es_2015, df_sim_es_2015, how='left', on = 'NUMERODN')\n",
    "df_merged_inner_2015 = pd.merge(df_sinasc_es_2015, df_sim_es_2015, how='inner', on = 'NUMERODN')\n",
    "df_merged_outer_2015 = pd.merge(df_sinasc_es_2015, df_sim_es_2015, how='outer', on = 'NUMERODN', indicator=True)\n",
    "\n",
    "# Calculo da taxa de mortalidade geral\n",
    "(len(df_sim_es_2015[df_sim_es_2015]['IDADE']<1.index))/(len(df_sinasc_es_2015.index))\n",
    "\n",
    "# Calculo da taxa de mortalidade com dados integrados\n",
    "(len(df_merged_inner_2015.index))/(len(df_sinasc_es_2015.index))"
   ]
  },
  {
   "cell_type": "code",
   "execution_count": null,
   "metadata": {},
   "outputs": [],
   "source": [
    "# Ano 2016\n",
    "\n",
    "df_sinasc_es_2016 = pd.read_csv('https://docs.google.com/spreadsheets/d/e/2PACX-1vR_MH3HjwGWD0icAnZ3LVxxKUIxYNgAE3R-m-P61g0T2iXE9bs3hjeItGKTJqIUslIOAFN7TrE2ghGM/pub?gid=1574877476&single=true&output=csv')\n",
    "df_sim_es_2015 = pd.read_csv('https://docs.google.com/spreadsheets/d/e/2PACX-1vQm3T1J0pWoiG-JofcT-K4gvs1KBeKuCqYIxp2ZSvUjbdkzXFCrBd3pxFUqHvRqmg3iIunrxVTYIZRI/pub?gid=2016691083&single=true&output=csv')\n",
    "\n",
    "df_merged_left_2016 = pd.merge(df_sinasc_es_2016, df_sim_es_2016, how='left', on = 'NUMERODN')\n",
    "df_merged_inner_2016 = pd.merge(df_sinasc_es_2016, df_sim_es_2016, how='inner', on = 'NUMERODN')\n",
    "df_merged_outer_2016 = pd.merge(df_sinasc_es_2016, df_sim_es_2016, how='outer', on = 'NUMERODN', indicator=True)\n",
    "\n",
    "# Calculo da taxa de mortalidade geral\n",
    "(len(df_sim_es_2016[df_sim_es_2016]['IDADE']<1.index))/(len(df_sinasc_es_2016.index))\n",
    "\n",
    "# Calculo da taxa de mortalidade com dados integrados\n",
    "(len(df_merged_inner_2016.index))/(len(df_sinasc_es_2016.index))\n"
   ]
  }
 ],
 "metadata": {
  "kernelspec": {
   "display_name": "Python 3",
   "language": "python",
   "name": "python3"
  }
 },
 "nbformat": 4,
 "nbformat_minor": 2
}
